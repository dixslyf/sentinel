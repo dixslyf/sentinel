{
 "cells": [
  {
   "cell_type": "markdown",
   "metadata": {},
   "source": [
    "# Fine-tuning YOLOv8 with External Dataset and Exporting to TFLite\n",
    "## Import required packages"
   ]
  },
  {
   "cell_type": "code",
   "execution_count": null,
   "metadata": {},
   "outputs": [],
   "source": [
    "from ultralytics import YOLO\n",
    "import os \n",
    "import matplotlib.pyplot as plt\n",
    "import zipfile"
   ]
  },
  {
   "cell_type": "markdown",
   "metadata": {},
   "source": [
    "## Load the Pre-Trained YOLOv8 Model"
   ]
  },
  {
   "cell_type": "code",
   "execution_count": null,
   "metadata": {},
   "outputs": [],
   "source": [
    "model = YOLO('yolov8n.pt')"
   ]
  },
  {
   "cell_type": "markdown",
   "metadata": {},
   "source": [
    "## Fine-Tune the Model "
   ]
  },
  {
   "cell_type": "code",
   "execution_count": null,
   "metadata": {},
   "outputs": [],
   "source": [
    "# Define the folder paths\n",
    "FOLDER_PATH = os.path.abspath(os.path.join(os.getcwd(), os.pardir))\n",
    "DATAFOLDER = os.path.join(FOLDER_PATH, 'sentinel_model_gen', 'data-images')\n",
    "\n",
    "# unzip data files into the specified folder\n",
    "def unzip_data(zip_file, folder_path):\n",
    "    # created folder if it does not exist\n",
    "    if not os.path.exists(folder_path):\n",
    "        os.makedirs(folder_path)\n",
    "\n",
    "    # unzip the contents of the zip file to the destination folder\n",
    "    with zipfile.ZipFile(zip_file, 'r') as zip_ref:\n",
    "        zip_ref.extractall(folder_path)\n",
    "\n",
    "    print(f\"{zip_file} unzip to {folder_path}\")\n",
    "\n",
    "# fine tune the YOLO model with new dataset\n",
    "def fine_tune(model, yaml_path):\n",
    "    model.train(data=yaml_path, epochs=50, imgsz=640, batch=16, device=0)\n",
    "    return model\n",
    "\n",
    "# save the model \n",
    "def save_model(model):\n",
    "    model.save('yolo_fine_tuned.pt')\n",
    "\n",
    "# unzip parcel images dataset into the 'parcel-images' folder\n",
    "unzip_data(os.path.join(DATAFOLDER, \"parcel.v1i.yolov8.zip\"), os.path.join(DATAFOLDER, \"parcel-images\"))\n",
    "\n",
    "# unzip the pistol images dataset into the 'pistol-images'folder\n",
    "unzip_data(os.path.join(DATAFOLDER, \"Pistols.v1-resize-416x416.yolov8.zip\"), os.path.join(DATAFOLDER, \"pistol-images\"))\n",
    "\n",
    "# path to yaml configuration for parcel images\n",
    "parcel_yaml = os.path.join(DATAFOLDER, \"parcel-images\", \"data.yaml\")\n",
    "\n",
    "# path to yaml configuration for pistol images\n",
    "pistol_yaml = os.path.join(DATAFOLDER, \"pistol-images\", \"data.yaml\")\n",
    "\n",
    "# fine tune the YOLO model on parcel images \n",
    "parcel_ft_model = fine_tune(model, parcel_yaml)\n",
    "\n",
    "# further fine tune the previously fine funed model\n",
    "pistol_ft_model = fine_tune(parcel_ft_model, pistol_yaml)\n",
    "\n",
    "# save the model\n",
    "save_model(pistol_ft_model)"
   ]
  },
  {
   "cell_type": "markdown",
   "metadata": {},
   "source": [
    "## Load the Fine-Tuned Model"
   ]
  },
  {
   "cell_type": "code",
   "execution_count": null,
   "metadata": {},
   "outputs": [],
   "source": [
    "def load_model(model_name):\n",
    "    model = YOLO(model_name)\n",
    "    return model\n",
    "\n",
    "fined_tuned_model = load_model('yolo_fine_tuned.pt')"
   ]
  },
  {
   "cell_type": "markdown",
   "metadata": {},
   "source": [
    "## Test Model "
   ]
  },
  {
   "cell_type": "code",
   "execution_count": null,
   "metadata": {},
   "outputs": [],
   "source": [
    "def test_model(model, img_path):\n",
    "    # Perform object detection\n",
    "    results = model(img_path)\n",
    "\n",
    "    # retrieve the annotated image (with bounding boxes and labels)\n",
    "    annotated_img = results[0].plot()\n",
    "\n",
    "    # display the image\n",
    "    plt.imshow(annotated_img)\n",
    "    plt.axis('off')\n",
    "    plt.show()\n",
    "\n",
    "\n",
    "test_model(fined_tuned_model, os.path.join(FOLDER_PATH, 'sentinel_model_gen', 'guy_w_box.png'))\n",
    "test_model(fined_tuned_model, os.path.join(FOLDER_PATH, 'sentinel_model_gen', 'guy.png'))"
   ]
  },
  {
   "cell_type": "markdown",
   "metadata": {},
   "source": [
    "## Export the model to TFLite Format"
   ]
  },
  {
   "cell_type": "code",
   "execution_count": null,
   "metadata": {},
   "outputs": [],
   "source": [
    "# export the model to TFLite for use in the detection system \n",
    "def export_model(model): \n",
    "    model.export(format='tflite')"
   ]
  }
 ],
 "metadata": {
  "language_info": {
   "name": "python"
  }
 },
 "nbformat": 4,
 "nbformat_minor": 4
}
