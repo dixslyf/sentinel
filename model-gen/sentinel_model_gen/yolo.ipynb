{
 "cells": [
  {
   "cell_type": "markdown",
   "metadata": {},
   "source": [
    "# Fine-tuning YOLOv8 with External Dataset and Exporting to TFLite\n",
    "## Import required packages"
   ]
  },
  {
   "cell_type": "code",
   "execution_count": null,
   "metadata": {},
   "outputs": [],
   "source": [
    "from ultralytics import YOLO\n",
    "import os \n",
    "import matplotlib.pyplot as plt\n",
    "import zipfile\n",
    "import shutil\n",
    "import yaml"
   ]
  },
  {
   "cell_type": "markdown",
   "metadata": {},
   "source": [
    "## Load the Pre-Trained YOLOv8 Model"
   ]
  },
  {
   "cell_type": "code",
   "execution_count": null,
   "metadata": {},
   "outputs": [],
   "source": [
    "model = YOLO('yolov8n.pt')"
   ]
  },
  {
   "cell_type": "markdown",
   "metadata": {},
   "source": [
    "## Fine-Tune the Model "
   ]
  },
  {
   "cell_type": "code",
   "execution_count": null,
   "metadata": {},
   "outputs": [],
   "source": [
    "# Define the folder paths\n",
    "FOLDER_PATH = os.path.abspath(os.path.join(os.getcwd(), os.pardir))\n",
    "DATAFOLDER = os.path.join(FOLDER_PATH, 'sentinel_model_gen', 'data-images')\n",
    "\n",
    "# unzip data files into the specified folder\n",
    "def unzip_data(zip_file, folder_path):\n",
    "    # created folder if it does not exist\n",
    "    if not os.path.exists(folder_path):\n",
    "        os.makedirs(folder_path)\n",
    "\n",
    "    # unzip the contents of the zip file to the destination folder\n",
    "    with zipfile.ZipFile(zip_file, 'r') as zip_ref:\n",
    "        zip_ref.extractall(folder_path)\n",
    "\n",
    "    print(f\"{zip_file} unzip to {folder_path}\")"
   ]
  },
  {
   "cell_type": "code",
   "execution_count": null,
   "metadata": {},
   "outputs": [],
   "source": [
    "# Combined folder for datasets \n",
    "COMBINED_FOLDER = os.path.join(DATAFOLDER, 'combined-images')\n",
    "\n",
    "if not os.path.exists(COMBINED_FOLDER):\n",
    "    os.makedirs(COMBINED_FOLDER)\n",
    "\n",
    "def combine_and_rename(src_folder, dataset_name):\n",
    "    for split in ['train', 'valid', 'test']:\n",
    "        # path to images and labels in the source folder \n",
    "        img_src_folder = os.path.join(src_folder, split, 'images')\n",
    "        lbl_src_folder = os.path.join(src_folder, split, 'labels')\n",
    "\n",
    "        # destination folders in combined folder \n",
    "        img_dest_folder = os.path.join(COMBINED_FOLDER, split, 'images')\n",
    "        lbl_dest_folder = os.path.join(COMBINED_FOLDER, split, 'labels')\n",
    "\n",
    "        # create destination folder if they don't exist \n",
    "        if not os.path.exists(img_dest_folder):\n",
    "            os.makedirs(img_dest_folder)\n",
    "        if not os.path.exists(lbl_dest_folder):\n",
    "            os.makedirs(lbl_dest_folder)\n",
    "\n",
    "        # rename and move image and label files \n",
    "        img_files = sorted(os.listdir(img_src_folder))\n",
    "        lbl_files = sorted(os.listdir(lbl_src_folder))\n",
    "\n",
    "        for i, img_file in enumerate(img_files):\n",
    "            # get corresponding label file \n",
    "            lbl_file = lbl_files[i]\n",
    "\n",
    "            # new filenames with dataset name as prefix\n",
    "            new_img_name = f\"{dataset_name}-img-{i+1}.jpg\"\n",
    "            new_lbl_name = f\"{dataset_name}-img-{i+1}.txt\"\n",
    "\n",
    "            # paths to source files \n",
    "            img_src_path = os.path.join(img_src_folder, img_file)\n",
    "            lbl_src_path = os.path.join(lbl_src_folder, lbl_file)\n",
    "\n",
    "            # path to destination files \n",
    "            img_dest_path = os.path.join(img_dest_folder, new_img_name)\n",
    "            lbl_dest_path = os.path.join(lbl_dest_folder, new_lbl_name)\n",
    "\n",
    "            # move and rename the files \n",
    "            shutil.copy(img_src_path, img_dest_path)\n",
    "            shutil.copy(lbl_src_path, lbl_dest_path)\n",
    "\n",
    "            #print(f\"Moved {img_file} -> {new_img_name}\")\n",
    "            #print(f\"Moved {lbl_file} -> {new_lbl_name}\")"
   ]
  },
  {
   "cell_type": "code",
   "execution_count": null,
   "metadata": {},
   "outputs": [],
   "source": [
    "# create yaml file for combined dataset\n",
    "TRAIN_PATH = os.path.join(COMBINED_FOLDER, 'train', 'images')\n",
    "VAL_PATH = os.path.join(COMBINED_FOLDER, 'valid', 'images')\n",
    "TEST_PATH = os.path.join(COMBINED_FOLDER, 'test', 'images')\n",
    "OUTPUT_PATH = os.path.join(COMBINED_FOLDER, 'data.yaml')\n",
    "\n",
    "\n",
    "def load_yaml(yaml_path):\n",
    "    with open(yaml_path, 'r') as f:\n",
    "        return yaml.safe_load(f)\n",
    "\n",
    "def combine_yaml(yaml_files):\n",
    "    combined_data = {\n",
    "        'train': TRAIN_PATH,\n",
    "        'val': VAL_PATH,\n",
    "        'test': TEST_PATH,\n",
    "        'names': []\n",
    "    }\n",
    "\n",
    "    # loop through each yaml file \n",
    "    for yaml_file in yaml_files:\n",
    "        data = load_yaml(yaml_file)\n",
    "        combined_data['names'].extend(data['names']) # merge class names \n",
    "\n",
    "    # remove duplicates from the names if any\n",
    "    combined_data['names'] = list(set(combined_data['names']))\n",
    "    combined_data['nc'] = len(combined_data['names']) # set the number of unique classes\n",
    "\n",
    "    # write combined edata to a new yaml file \n",
    "    with open(OUTPUT_PATH, 'w+') as yaml_f: \n",
    "        yaml.dump(combined_data, yaml_f)\n",
    "\n",
    "    print(f\"Combined YAML file create at {OUTPUT_PATH}\")"
   ]
  },
  {
   "cell_type": "code",
   "execution_count": null,
   "metadata": {},
   "outputs": [],
   "source": [
    "# fine tune the YOLO model with new dataset\n",
    "# epochs=5 for testing purposes\n",
    "def fine_tune(model, yaml_path, epochs=5, imgsz=640, batch=16, device=None):\n",
    "    # model.train(data=yaml_path, epochs=epochs, imgsz=imgsz, batch=batch)\n",
    "    # prepare the arguments for model.train\n",
    "    train_kwargs = {\n",
    "        'data': yaml_path,\n",
    "        'epochs': epochs, \n",
    "        'imgsz': imgsz,\n",
    "        'batch': batch\n",
    "    }\n",
    "\n",
    "    # include 'deivce' only if its not none \n",
    "    if device is not None: \n",
    "        train_kwargs['device'] = device\n",
    "\n",
    "    # train model \n",
    "    model.train(**train_kwargs)\n",
    "    \n",
    "    return model"
   ]
  },
  {
   "cell_type": "code",
   "execution_count": null,
   "metadata": {},
   "outputs": [],
   "source": [
    "# save the model \n",
    "def save_model(model):\n",
    "    model.save('yolo_fine_tuned.pt')"
   ]
  },
  {
   "cell_type": "code",
   "execution_count": null,
   "metadata": {},
   "outputs": [],
   "source": [
    "# unzip parcel images dataset into the 'parcel-images' folder\n",
    "unzip_data(os.path.join(DATAFOLDER, \"parcel.v1i.yolov8.zip\"), os.path.join(DATAFOLDER, \"parcel-images\"))\n",
    "\n",
    "# unzip the gun images dataset into the 'gun-images' folder\n",
    "unzip_data(os.path.join(DATAFOLDER, \"Weapon classification.v2i.yolov8.zip\"), os.path.join(DATAFOLDER, \"gun-images\"))\n",
    "\n",
    "# dataset source folder \n",
    "parcel_folder = os.path.join(DATAFOLDER, \"parcel-images\")\n",
    "gun_folder = os.path.join(DATAFOLDER, \"gun-images\")\n",
    "\n",
    "combine_and_rename(parcel_folder, 'parcel')\n",
    "combine_and_rename(gun_folder, 'gun')\n",
    "\n",
    "# path to yaml configuration for parcel images and gun images\n",
    "parcel_yaml = os.path.join(DATAFOLDER, \"parcel-images\", \"data.yaml\")\n",
    "gun_yaml = os.path.join(DATAFOLDER, \"gun-images\", \"data.yaml\")\n",
    "\n",
    "yaml_list = [parcel_yaml, gun_yaml]\n",
    "\n",
    "combine_yaml(yaml_list)\n",
    "\n",
    "# fine tune the YOLO model on parcel images \n",
    "#parcel_ft_model = fine_tune(model, parcel_yaml)\n",
    "# further fine tune the previously fine funed model\n",
    "#gun_ft_model = fine_tune(parcel_ft_model, gun_yaml)\n",
    "\n",
    "# fine tune the YOLO model with combined dataset images \n",
    "fined_tuned_model = fine_tune(model, os.path.join(COMBINED_FOLDER, \"data.yaml\"))\n",
    "\n",
    "# save the model\n",
    "save_model(gun_ft_model)"
   ]
  },
  {
   "cell_type": "markdown",
   "metadata": {},
   "source": [
    "## Load the Fine-Tuned Model"
   ]
  },
  {
   "cell_type": "code",
   "execution_count": null,
   "metadata": {},
   "outputs": [],
   "source": [
    "def load_model(model_name):\n",
    "    model = YOLO(model_name)\n",
    "    return model\n",
    "\n",
    "fined_tuned_model = load_model('yolo_fine_tuned.pt')"
   ]
  },
  {
   "cell_type": "markdown",
   "metadata": {},
   "source": [
    "## Test Model "
   ]
  },
  {
   "cell_type": "code",
   "execution_count": null,
   "metadata": {},
   "outputs": [],
   "source": [
    "%matplotlib inline\n",
    "def test_model(model, img_path, conf=0.25):\n",
    "    # Perform object detection\n",
    "    results = model(img_path, conf=conf)\n",
    "\n",
    "    # retrieve the annotated image (with bounding boxes and labels)\n",
    "    annotated_img = results[0].plot()\n",
    "\n",
    "    # display the image\n",
    "    plt.figure(figsize=(10, 10))\n",
    "    plt.imshow(annotated_img)\n",
    "    plt.axis('off')\n",
    "    plt.show()\n",
    "\n",
    "\n",
    "test_model(fined_tuned_model, os.path.join(FOLDER_PATH, 'sentinel_model_gen', 'guy_w_box.png'))\n",
    "test_model(fined_tuned_model, os.path.join(FOLDER_PATH, 'sentinel_model_gen', 'guy.png'))\n",
    "test_model(fined_tuned_model, os.path.join(FOLDER_PATH, 'sentinel_model_gen', 'guy_w_gun.png'))"
   ]
  },
  {
   "cell_type": "markdown",
   "metadata": {},
   "source": [
    "## Export the model to TFLite Format"
   ]
  },
  {
   "cell_type": "code",
   "execution_count": null,
   "metadata": {},
   "outputs": [],
   "source": [
    "# export the model to TFLite for use in the detection system \n",
    "def export_model(model): \n",
    "    model.export(format='tflite')"
   ]
  }
 ],
 "metadata": {
  "language_info": {
   "name": "python"
  }
 },
 "nbformat": 4,
 "nbformat_minor": 4
}
